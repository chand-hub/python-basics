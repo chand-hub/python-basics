{
  "nbformat": 4,
  "nbformat_minor": 0,
  "metadata": {
    "colab": {
      "provenance": []
    },
    "kernelspec": {
      "name": "python3",
      "display_name": "Python 3"
    },
    "language_info": {
      "name": "python"
    }
  },
  "cells": [
    {
      "cell_type": "code",
      "execution_count": null,
      "metadata": {
        "id": "gJD8mhGh7_rw"
      },
      "outputs": [],
      "source": []
    },
    {
      "cell_type": "markdown",
      "source": [
        "1. What is python and why is it popular ?\n",
        "\n",
        "   -> Pythons are the programming language and pythons are more popular due to several feature\n",
        "   a. Easy to learn\n",
        "   b. Vesatile : used for web development , data analysis, machine learning , automation , and much more\n",
        "   c. Large community : providing extensive library , framework and  support.\n",
        "   d. Cross platform : it can run on multiple operating systems, including Windows , macOS , and Linux.\n",
        "\n",
        "\n",
        "   2. What is an interpreter in Python ?\n",
        "\n",
        "     ->The Python interpreter is a program that reads and executes Python code line by line. It translates the code into machine code that the computer`s processor can understand and execute.\n",
        "\n",
        "    3. What are pre-defined keywords in Python ?\n",
        "\n",
        "      -> Pre-defined keywords, also known as reserved words that have special meaning in Python. They cannot be used as variable names,function names, or any other identifier.\n",
        "\n",
        "      example\n",
        "      a. if, else, elif\n",
        "      b. for, while\n",
        "      c. def, class\n",
        "      d. import, from\n",
        "      e. try, except, finally\n",
        "      f. True, False, None\n",
        "\n",
        "     4. Can keywords be used as variable names ?\n",
        "\n",
        "       -> No, keywords cannot be used as variable names in Python.\n",
        "          Keywords are reserved words in Python that have special meanings and are used for specific purposes in the language's syntax.\n",
        "\n",
        "    5. What is mutability in Python ?\n",
        "\n",
        "      -> No, keywords cannot be used as variable names in Python. Keywords are reserved words with special meanings, and using them as variable names would cause syntax errors or confusion.\n",
        "    6. Why are lists mutable, but tuples are immutable ?\n",
        "\n",
        "      ->Lists:-\n",
        "         \n",
        "         Mutable: Lists can be modified after creation.\n",
        "        \n",
        "         Reasons: Lists are designed for dynamic data storage and manipulation.\n",
        "\n",
        "         Tuples :-\n",
        "\n",
        "         Immutable: Tuples cannot be modified after creation.\n",
        "         \n",
        "         Reasons: Tuples are designed for fixed, unchanging data storage, providing benefits like:\n",
        "         Memory efficiency,\n",
        "         Thread safety,\n",
        "         Code integrity\n",
        " 7. What is the difference between “==” and “is” operators in Python ?\n",
        "\n",
        " \"==\" Operator\n",
        "1. Value comparison: Checks if the values of two objects are equal.\n",
        "2. Example: a = [1, 2, 3]; b = [1, 2, 3]; a == b returns True\n",
        "\n",
        "\"is\" Operator\n",
        "1. Identity comparison: Checks if both variables refer to the same object in memory.\n",
        "2. Example: a = [1, 2, 3]; b = [1, 2, 3]; a is b returns False because a and b are different objects.\n"
      ],
      "metadata": {
        "id": "LukT8RJc8Dds"
      }
    },
    {
      "cell_type": "markdown",
      "source": [
        "8. What are logical operators in Python ?\n",
        "\n",
        "  -> Logical operations are used to combine conditions and make decisions in Python code.\n",
        "\n",
        "    Examples\n",
        "\n",
        "     True and True returns True\n",
        "\n",
        "    True or False returns True\n",
        "\n",
        "   not True returns False\n",
        "9. What is type casting in Python ?\n",
        "\n",
        "  ->Type casting is the process of converting one data type into another. Example :-\n",
        "\n",
        "    int(3.14) returns 3\n",
        "    \n",
        "    float(5) returns 5.0\n",
        "   \n",
        "    str(123) returns \"123\"\n",
        "\n",
        "10. What is the difference between implicit and explicit type casting ?\n",
        "\n",
        "  -> Implicit Type Casting\n",
        "  \n",
        "     Automatic conversion: Python automatically converts data types.\n",
        "\n",
        "     Example: a = 5; b = 3.0; result = a + b (Python converts a to float)\n",
        "\n",
        "     Explicit Type Casting\n",
        "\n",
        "     Manual conversion: Developers use functions to convert data types.\n",
        "\n",
        "     Example: a = 3.14; b = int(a) (converts a to integer)\n",
        "\n",
        "11. What is the purpose of conditional statements in Python ?\n",
        "  -> Purpose\n",
        "    \n",
        "     Decision-making: Conditional statements allow the program to make decisions based on conditions.\n",
        "     \n",
        "     Control flow: They control the flow of the program, executing different blocks of code based on conditions.\n",
        "    \n",
        "     Handling different scenarios: Conditional statements help handle different scenarios, making the program more flexible and robust.\n",
        "\n",
        "     Examples\n",
        "     \n",
        "     if statements\n",
        "     \n",
        "     if-else statements\n",
        "     \n",
        "     if-elif-else statements\n",
        "\n",
        "12. How does the elif statement work ?\n",
        "\n",
        "  -> The elif statement is used to check another condition if the initial if condition is false.\n",
        "\n",
        "13. What is the difference between for and while loops ?\n",
        "\n",
        "  ->For Loops\n",
        "  \n",
        "   Iterate over sequences: For loops iterate over sequences like lists, tuples, or strings.\n",
        "  \n",
        "   Known number of iterations: The number of iterations is known in advance.\n",
        "  \n",
        "   Example: fruits = ['apple', 'banana', 'cherry']; for fruit in fruits: print(fruit)\n",
        "\n",
        "   While Loops\n",
        "  \n",
        "   Conditional iteration: While loops iterate based on a condition.\n",
        "  \n",
        "   Unknown number of iterations: The number of iterations is unknown in advance.\n",
        "   \n",
        "   Example: i = 0; while i < 5: print(i); i += 1\n",
        "\n",
        "14. Describe a scenario where a while loop is more suitable than a for loop.\n",
        "\n",
        "  -> A program needs to repeatedly ask the user for input until a valid password is entered.\n",
        "\n",
        "  While Loop Suitability\n",
        "  \n",
        "  Unknown number of iterations: The number of attempts the user will take to enter a valid password is unknown.\n",
        "  \n",
        "   Conditional iteration: The loop should continue until the user enters a valid password.\n",
        "\n",
        "   Example\n",
        "\n",
        "   password = \"secret\"\n",
        "   \n",
        "   user_input = \"\"\n",
        "   \n",
        "   while user_input != password:\n",
        "   user_input = input(\"Enter password: \")\n",
        "   print(\"Access granted!\")\n",
        "\n"
      ],
      "metadata": {
        "id": "1JbI8y8Spc0C"
      }
    },
    {
      "cell_type": "code",
      "source": [
        "# Write a Python program to print \"Hello, World!y\n",
        "\"\"\"print(\"hello, world!\")\"\"\""
      ],
      "metadata": {
        "colab": {
          "base_uri": "https://localhost:8080/",
          "height": 35
        },
        "id": "kq0ML5k2HdSl",
        "outputId": "c5dadc59-6b66-4ddc-c2c2-a92355e028ab"
      },
      "execution_count": 2,
      "outputs": [
        {
          "output_type": "execute_result",
          "data": {
            "text/plain": [
              "'print(\"hello, world!\")'"
            ],
            "application/vnd.google.colaboratory.intrinsic+json": {
              "type": "string"
            }
          },
          "metadata": {},
          "execution_count": 2
        }
      ]
    },
    {
      "cell_type": "code",
      "source": [
        "#Write a Python program that displays your name and age.\n",
        "\"\"\"name = \"Md chand\"\n",
        "age = 23\n",
        "print(f'Name: {name})\n",
        "print(f\"Age: {age})\"\"\""
      ],
      "metadata": {
        "colab": {
          "base_uri": "https://localhost:8080/",
          "height": 35
        },
        "id": "Sxk3OoiiH1lo",
        "outputId": "b960dbd6-6bd8-456d-e8b1-de8a78b921f2"
      },
      "execution_count": 3,
      "outputs": [
        {
          "output_type": "execute_result",
          "data": {
            "text/plain": [
              "'name = \"Md chand\"\\nage = 23 \\nprint(f\\'Name: {name})\\nprint(f\"Age: {age})'"
            ],
            "application/vnd.google.colaboratory.intrinsic+json": {
              "type": "string"
            }
          },
          "metadata": {},
          "execution_count": 3
        }
      ]
    },
    {
      "cell_type": "code",
      "source": [
        "#Write code to print all the pre-defined keywords in Python using the keyword library.\n",
        "\"\"\"keywords = keyword.kwlist\n",
        "print(\"python keywords:\")\"\"\""
      ],
      "metadata": {
        "colab": {
          "base_uri": "https://localhost:8080/",
          "height": 35
        },
        "id": "m_l0deJFJgXe",
        "outputId": "6fe3e075-551c-4a1e-deb5-2cc1046ab48e"
      },
      "execution_count": 4,
      "outputs": [
        {
          "output_type": "execute_result",
          "data": {
            "text/plain": [
              "'keywords = keyword.kwlist\\nprint(\"python keywords:\")'"
            ],
            "application/vnd.google.colaboratory.intrinsic+json": {
              "type": "string"
            }
          },
          "metadata": {},
          "execution_count": 4
        }
      ]
    },
    {
      "cell_type": "code",
      "source": [
        "# Write a program that checks if a given word is a Python keyword.\n",
        "\"\"\"def is_python_keyword(word):return\n",
        "keyword.iskeyword(word)\"\"\"\n"
      ],
      "metadata": {
        "colab": {
          "base_uri": "https://localhost:8080/",
          "height": 35
        },
        "id": "_LrxUlUtLyB0",
        "outputId": "bff0e13f-f17c-49e5-e948-084d0668cbea"
      },
      "execution_count": 5,
      "outputs": [
        {
          "output_type": "execute_result",
          "data": {
            "text/plain": [
              "'def is_python_keyword(word):return\\nkeyword.iskeyword(word)'"
            ],
            "application/vnd.google.colaboratory.intrinsic+json": {
              "type": "string"
            }
          },
          "metadata": {},
          "execution_count": 5
        }
      ]
    },
    {
      "cell_type": "code",
      "source": [
        "#Create a list and tuple in Python, and demonstrate how attempting to change an element works differently\n",
        "for each.\n",
        "#create a list and a tuple\n",
        "my_list = [1, 2, 3, 4, 5]\n",
        "my_tuple = (1, 2, 3, 4, 5)\n",
        "#Attempt to change an element in the list\n",
        "my_list[0] = 10\n",
        "print(\"list after modification:\",my_list)"
      ],
      "metadata": {
        "colab": {
          "base_uri": "https://localhost:8080/",
          "height": 106
        },
        "id": "YdxBqYudNGO0",
        "outputId": "0f5867d8-2e46-480b-b00c-f0441b477408"
      },
      "execution_count": 8,
      "outputs": [
        {
          "output_type": "error",
          "ename": "SyntaxError",
          "evalue": "invalid syntax (<ipython-input-8-249eff2d777b>, line 2)",
          "traceback": [
            "\u001b[0;36m  File \u001b[0;32m\"<ipython-input-8-249eff2d777b>\"\u001b[0;36m, line \u001b[0;32m2\u001b[0m\n\u001b[0;31m    for each.\u001b[0m\n\u001b[0m             ^\u001b[0m\n\u001b[0;31mSyntaxError\u001b[0m\u001b[0;31m:\u001b[0m invalid syntax\n"
          ]
        }
      ]
    },
    {
      "cell_type": "code",
      "source": [
        "#Write a function to demonstrate the behavior of mutable and immutable arguments.\n",
        "\"\"\"def modify_argument(my_list,my_tuple, my_string, my_int):\n",
        "\"\"\"\n",
        "#Attempt to modify the list\n",
        "\"\"\"my_list.append(10)\n",
        "print(\"List inside function:\",my_list)\"\"\"\n",
        "#Attemt to modify the tuple\n",
        "\"\"\"try:\n",
        " my_tuple[0] = 10\n",
        "except TypeError as e:\n",
        "  print(\"Error:\", e)\"\"\""
      ],
      "metadata": {
        "colab": {
          "base_uri": "https://localhost:8080/",
          "height": 35
        },
        "id": "-D4tKJhmOvRL",
        "outputId": "7894e02b-021c-40b8-a6f8-a5ceaee7f199"
      },
      "execution_count": 14,
      "outputs": [
        {
          "output_type": "execute_result",
          "data": {
            "text/plain": [
              "'try: \\n my_tuple[0] = 10\\nexcept TypeError as e:\\n  print(\"Error:\", e)'"
            ],
            "application/vnd.google.colaboratory.intrinsic+json": {
              "type": "string"
            }
          },
          "metadata": {},
          "execution_count": 14
        }
      ]
    },
    {
      "cell_type": "code",
      "source": [
        "#Write a program that performs basic arithmetic operations on two user-input numbers.\n",
        "\"\"\"def get_user_input():\n",
        "try:\n",
        "  num1 =\n",
        "  float(input(\"Enter the first number: \"))\n",
        "  num2 =\n",
        "  float(input(\"Enter the second number:\"))\"\"\""
      ],
      "metadata": {
        "colab": {
          "base_uri": "https://localhost:8080/",
          "height": 35
        },
        "id": "qCAYw9DaRyV8",
        "outputId": "9523b0e1-19b5-4eab-9108-0922c75dd88d"
      },
      "execution_count": 15,
      "outputs": [
        {
          "output_type": "execute_result",
          "data": {
            "text/plain": [
              "'def get_user_input():\\ntry: \\n  num1 =\\n  float(input(\"Enter the first number: \"))\\n  num2 =\\n  float(input(\"Enter the second number:\"))'"
            ],
            "application/vnd.google.colaboratory.intrinsic+json": {
              "type": "string"
            }
          },
          "metadata": {},
          "execution_count": 15
        }
      ]
    },
    {
      "cell_type": "code",
      "source": [
        "#Write a program to demonstrate the use of logical operators.\n",
        "\"\"\"def demonstrate_logical_operators():\"\"\"\n",
        "#Define variables\n",
        "x = 5\n",
        "y = 10\n",
        "#Logical AND (and)\n",
        "\"\"\"print(\"Logical AND (and):\")\n",
        "print(f\"{x} > 0 and {y} >\n",
        "0: {x > 0 and y > 0}\")\n",
        "print(f\"{x} > 0 and {y} <\n",
        "0: {x > 0 and y < 0}\")\"\"\""
      ],
      "metadata": {
        "colab": {
          "base_uri": "https://localhost:8080/",
          "height": 35
        },
        "id": "_7wiO2ZhU1Mn",
        "outputId": "7fed3e51-3883-4535-e35d-ff71177e1fbc"
      },
      "execution_count": 17,
      "outputs": [
        {
          "output_type": "execute_result",
          "data": {
            "text/plain": [
              "'print(\"Logical AND (and):\")\\nprint(f\"{x} > 0 and {y} > \\n0: {x > 0 and y > 0}\")\\nprint(f\"{x} > 0 and {y} < \\n0: {x > 0 and y < 0}\")'"
            ],
            "application/vnd.google.colaboratory.intrinsic+json": {
              "type": "string"
            }
          },
          "metadata": {},
          "execution_count": 17
        }
      ]
    },
    {
      "cell_type": "code",
      "source": [
        "#Write a Python program to convert user input from string to integer, float, and boolean types.\n",
        "\"\"\"def convert_types():\n",
        "user_input = input = input(\"Enter a value: \")\n",
        "try\"\"\"\n",
        "# Convert to integer\n",
        "\"\"\"int_value = int(user_input)\n",
        "print(f\"Integer:\n",
        "{int_value}\")\"\"\"\n",
        "#convert to float\n",
        "\"\"\"float_value =float(user_input)\n",
        "print(f\"Float: {float_value}\")\"\"\"\n",
        "#convert to boolean\n",
        "\"\"\"if user_input.lower() == \"true\":\n",
        "  bool_value = True\n",
        "  elif user_user_input.lower() == \"false\":\n",
        "    bool_value = false\n",
        "    else:\n",
        "      bool_value = bool(user_input)\"\"\""
      ],
      "metadata": {
        "colab": {
          "base_uri": "https://localhost:8080/",
          "height": 53
        },
        "id": "YYdmc5e_YaXV",
        "outputId": "db2352e6-c6d3-427b-b23c-857a32fa4376"
      },
      "execution_count": 20,
      "outputs": [
        {
          "output_type": "execute_result",
          "data": {
            "text/plain": [
              "'if user_input.lower() == \"true\":\\n  bool_value = True\\n  elif user_user_input.lower() == \"false\":\\n    bool_value = false \\n    else:\\n      bool_value = bool(user_input)'"
            ],
            "application/vnd.google.colaboratory.intrinsic+json": {
              "type": "string"
            }
          },
          "metadata": {},
          "execution_count": 20
        }
      ]
    },
    {
      "cell_type": "code",
      "source": [
        "#Write code to demonstrate type casting with list elements.\n",
        "\"\"\"def demonstrate_type_casting():\"\"\"\n",
        "#define a variable with the smallest possible integer value\n",
        "\"\"\"smallest_int = -2**31\"\"\"\n",
        "#Assuming 32-bit integer\n",
        "#cast to different types\n",
        "\"\"\"print(\"Original Value (Integer):\", smallest_int)\"\"\"\n",
        "#cast to float\n",
        "\"\"\"float_value = float(smallest_int)\n",
        "print(\"Float:\",float_value)\"\"\"\n",
        "#cast to string\n",
        "\"\"\"string_value = str(smallest_int)\n",
        "print(\"string:\", str_value)\"\"\"\n",
        "#cast to boolean\n",
        "\"\"\"bool_value = bool(smallest_int)\n",
        "print(\"Boolean:\", bool_value)\"\"\"\n"
      ],
      "metadata": {
        "colab": {
          "base_uri": "https://localhost:8080/",
          "height": 35
        },
        "id": "rmfnn3Trcvte",
        "outputId": "ee408db5-f3a4-48ee-d36f-cbae31830157"
      },
      "execution_count": 21,
      "outputs": [
        {
          "output_type": "execute_result",
          "data": {
            "text/plain": [
              "'bool_value = bool(smallest_int)\\nprint(\"Boolean:\", bool_value)'"
            ],
            "application/vnd.google.colaboratory.intrinsic+json": {
              "type": "string"
            }
          },
          "metadata": {},
          "execution_count": 21
        }
      ]
    },
    {
      "cell_type": "code",
      "source": [
        "#Write a program that checks if a number is positive, negative, or zero.\n",
        "\"\"\"def classify_number(num):\n",
        "if num > 0:\n",
        "  return \"positive\"\n",
        "  elif num < 0:\n",
        "    return \"Negative\"\n",
        "    else:\n",
        "      return\"Zero\"\n",
        "      def main():\n",
        "        try:\n",
        "          num = float(input(\"Enter a number: \"))\n",
        "          result = classify_number(num)\n",
        "          print(f\"The number is {result},\")\"\"\""
      ],
      "metadata": {
        "colab": {
          "base_uri": "https://localhost:8080/",
          "height": 70
        },
        "id": "5a5yyHlgkoCl",
        "outputId": "34100189-78ca-40a2-f8b7-8e9aadf53bec"
      },
      "execution_count": 22,
      "outputs": [
        {
          "output_type": "execute_result",
          "data": {
            "text/plain": [
              "'def classify_number(num):\\nif num > 0:\\n  return \"positive\"\\n  elif num < 0:\\n    return \"Negative\"\\n    else:\\n      return\"Zero\"\\n      def main():\\n        try:\\n          num = float(input(\"Enter a number: \"))\\n          result = classify_number(num)\\n          print(f\"The number is {result},\")'"
            ],
            "application/vnd.google.colaboratory.intrinsic+json": {
              "type": "string"
            }
          },
          "metadata": {},
          "execution_count": 22
        }
      ]
    },
    {
      "cell_type": "code",
      "source": [
        "#Write a for loop to print numbers from 1 to 10.\n",
        "\"\"\"for i in range(1, 11):\n",
        "print(i)\"\"\"\n"
      ],
      "metadata": {
        "colab": {
          "base_uri": "https://localhost:8080/",
          "height": 35
        },
        "id": "AUXAZ3QFm54V",
        "outputId": "c445503a-bbed-4977-bc76-ba80bb8198dc"
      },
      "execution_count": 24,
      "outputs": [
        {
          "output_type": "execute_result",
          "data": {
            "text/plain": [
              "'for i in range(1, 11):\\nprint(i)'"
            ],
            "application/vnd.google.colaboratory.intrinsic+json": {
              "type": "string"
            }
          },
          "metadata": {},
          "execution_count": 24
        }
      ]
    },
    {
      "cell_type": "code",
      "source": [
        "#Write a Python program to find the sum of all even numbers between 1 and 50.\n",
        "\"\"\"def sum_even_numbers(start, end):\n",
        "return sum(i for i in range (start, end + 1) if i % 2 == 0)\n",
        "def main():\n",
        "  start = 1\n",
        "  end = 50\n",
        "  result = sum_even_numbers(statrt, end)\n",
        "  print(f\"The sum of even numbers between {statr} and {end} is: {result}\")\"\"\""
      ],
      "metadata": {
        "colab": {
          "base_uri": "https://localhost:8080/",
          "height": 53
        },
        "id": "Uz-Lpu6unjC9",
        "outputId": "10f7f79a-7693-48be-894e-0af7462b07f1"
      },
      "execution_count": 26,
      "outputs": [
        {
          "output_type": "execute_result",
          "data": {
            "text/plain": [
              "'def sum_even_numbers(start, end):\\nreturn sum(i for i in range (start, end + 1) if i % 2 == 0)\\ndef main():\\n  start = 1\\n  end = 50\\n  result = sum_even_numbers(statrt, end)\\n  print(f\"The sum of even numbers between {statr} and {end} is: {result}\")'"
            ],
            "application/vnd.google.colaboratory.intrinsic+json": {
              "type": "string"
            }
          },
          "metadata": {},
          "execution_count": 26
        }
      ]
    },
    {
      "cell_type": "code",
      "source": [
        "#Write a program to reverse a string using a while loop.\n",
        "\"\"\"def reverse_string(s):\n",
        "reverse_s = \"\"\n",
        "i = len(s) - 1\n",
        "while i >= 0:\n",
        "  reverse_s += s[i]\n",
        "  i -= 1\n",
        "  return reverse_s\n",
        "  def main():\n",
        "    s = input(\"Enter a string: \")\n",
        "    reversed_string = reverse_string(s)\n",
        "    print(\"reversed string:\", reversed_string)\"\"\"\n"
      ],
      "metadata": {
        "colab": {
          "base_uri": "https://localhost:8080/",
          "height": 53
        },
        "id": "7utmPD62pUtl",
        "outputId": "84313ddb-3d94-43f6-983e-88e8083bfd3b"
      },
      "execution_count": 27,
      "outputs": [
        {
          "output_type": "execute_result",
          "data": {
            "text/plain": [
              "'def reverse_string(s):\\nreverse_s = \"\"\\ni = len(s) - 1\\nwhile i >= 0: \\n  reverse_s += s[i]\\n  i -= 1\\n  return reverse_s\\n  def main():\\n    s = input(\"Enter a string: \")\\n    reversed_string = reverse_string(s)\\n    print(\"reversed string:\", reversed_string)'"
            ],
            "application/vnd.google.colaboratory.intrinsic+json": {
              "type": "string"
            }
          },
          "metadata": {},
          "execution_count": 27
        }
      ]
    },
    {
      "cell_type": "code",
      "source": [
        "# Write a Python program to calculate the factorial of a number provided by the user using a while loop.\n",
        "\"\"\"def calculate_factorial(n):\n",
        "  factorial = 1\n",
        "  i = 1\n",
        "  while i <= n:\n",
        "    factorial *=i\n",
        "    i += 1\n",
        "    return factorial\n",
        "    def main():\n",
        "      try:\n",
        "        num = int(input(\"Enter a non-negative integer:\"))\n",
        "        if sum < 0:\"\"\"\n"
      ],
      "metadata": {
        "colab": {
          "base_uri": "https://localhost:8080/",
          "height": 53
        },
        "id": "Vy7Nb5x_rXMc",
        "outputId": "52fc54ae-e122-4af1-fedb-2410607719d5"
      },
      "execution_count": 28,
      "outputs": [
        {
          "output_type": "execute_result",
          "data": {
            "text/plain": [
              "'def calculate_factorial(n):\\n  factorial = 1 \\n  i = 1\\n  while i <= n:\\n    factorial *=i\\n    i += 1\\n    return factorial\\n    def main():\\n      try:\\n        num = int(input(\"Enter a non-negative integer:\"))\\n        if sum < 0:'"
            ],
            "application/vnd.google.colaboratory.intrinsic+json": {
              "type": "string"
            }
          },
          "metadata": {},
          "execution_count": 28
        }
      ]
    },
    {
      "cell_type": "code",
      "source": [],
      "metadata": {
        "id": "pbGzTps3swPZ"
      },
      "execution_count": null,
      "outputs": []
    }
  ]
}