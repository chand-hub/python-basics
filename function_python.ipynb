{
  "nbformat": 4,
  "nbformat_minor": 0,
  "metadata": {
    "colab": {
      "provenance": []
    },
    "kernelspec": {
      "name": "python3",
      "display_name": "Python 3"
    },
    "language_info": {
      "name": "python"
    }
  },
  "cells": [
    {
      "cell_type": "code",
      "execution_count": null,
      "metadata": {
        "id": "eljvijUwFoJ0"
      },
      "outputs": [],
      "source": []
    },
    {
      "cell_type": "markdown",
      "source": [
        "1. What is the difference between a function and a method in Python?\n",
        "Function:\n",
        "\n",
        "A function is a self-contained block of code that performs a specific task. It can be called multiple times from different parts of your program. Functions are independent and don't belong to any specific object or class.\n",
        "\n",
        "Method:\n",
        "\n",
        "A method is a function that belongs to a class or object. It's used to perform actions on an object's data. Methods are typically used to modify or retrieve an object's state.\n",
        "\n",
        "Example:\n",
        "\n",
        "\n",
        "# Function\n",
        "def greet(name):\n",
        "    print(f\"Hello, {name}!\")\n",
        "\n",
        "# Method\n",
        "class Person:\n",
        "    def __init__(self, name):\n",
        "        self.name = name\n",
        "\n",
        "    def greet(self):\n",
        "        print(f\"Hello, my name is {self.name}!\")\n",
        "\n",
        "2. Explain the concept of function arguments and parameters in Python.\n",
        "\n",
        "Parameters:\n",
        "\n",
        "Parameters are the variables defined in a function's definition. They are placeholders for the values that will be passed to the function when it's called.\n",
        "\n",
        "Arguments:\n",
        "\n",
        "Arguments are the actual values passed to a function when it's called. They are assigned to the parameters defined in the function's definition.\n",
        "\n",
        "Example:\n",
        "\n",
        "\n",
        "def greet(name):  # 'name' is a parameter\n",
        "    print(f\"Hello, {name}!\")\n",
        "\n",
        "greet(\"John\")  # 'John' is an argument\n",
        "\n",
        "3. What are the different ways to define and call a function in Python?\n",
        "\n",
        " 1. Simple Function:\n",
        "    - Defined using the def keyword.\n",
        "    - Called by its name followed by parentheses containing arguments.\n",
        "\n",
        "Example:\n",
        "\n",
        "def greet(name):\n",
        "    print(f\"Hello, {name}!\")\n",
        "\n",
        "greet(\"John\")  # Output: Hello, John!\n",
        "\n",
        "\n",
        "2. Lambda Function (Anonymous Function):\n",
        "    - Defined using the lambda keyword.\n",
        "    - Often used for short, one-time use functions.\n",
        "\n",
        "Example:\n",
        "\n",
        "greet = lambda name: print(f\"Hello, {name}!\")\n",
        "greet(\"John\")  # Output: Hello, John!\n",
        "\n",
        "\n",
        "3. Function with Default Argument Values:\n",
        "    - Parameters can have default values.\n",
        "    - Arguments for parameters with default values are optional.\n",
        "\n",
        "Example:\n",
        "\n",
        "def greet(name = \"Guest\"):\n",
        "    print(f\"Hello, {name}!\")\n",
        "\n",
        "greet(\"John\")  # Output: Hello, John!\n",
        "greet()  # Output: Hello, Guest!\n",
        "\n",
        "4. What is the purpose of the `return` statement in a Python function?\n",
        "\n",
        "    The return statement in a Python function serves two main purposes:\n",
        "\n",
        "1. Returning Values: It allows the function to send back a value or result to the caller. This value can be used for further processing or assignment to a variable.\n",
        "2. Exiting the Function: When a return statement is encountered, the function execution stops, and control is passed back to the caller.\n",
        "\n",
        "Example:\n",
        "\n",
        "def add_numbers(a, b):\n",
        "    result = a + b\n",
        "    return result\n",
        "\n",
        "sum_result = add_numbers(5, 3)\n",
        "print(sum_result)  # Output: 8\n",
        "\n",
        " 5. What are iterators in Python and how do they differ from iterables?\n",
        "\n",
        " Iterators:\n",
        "\n",
        "Iterators are objects that allow you to iterate over a sequence (like a list or string) one element at a time. They keep track of their current position and return the next element each time they're called.\n",
        "\n",
        "Iterables:\n",
        "\n",
        "Iterables are objects that can be iterated over, such as lists, tuples, dictionaries, and sets. They don't keep track of their current position and can be iterated over multiple times.\n",
        "\n",
        "Key differences:\n",
        "\n",
        "1. State: Iterators maintain their state (current position), while iterables do not.\n",
        "2. Iteration: Iterators can only be iterated over once, while iterables can be iterated over multiple times.\n",
        "\n",
        "Example:\n",
        "\n",
        "# Iterable (list)\n",
        "my_list = [1, 2, 3]\n",
        "\n",
        "# Iterator\n",
        "my_iterator = iter(my_list)\n",
        "\n",
        "6. Explain the concept of generators in Python and how they are defined.\n",
        "\n",
        "Generators:\n",
        "\n",
        "Generators are a type of iterable in Python that can be used to generate a sequence of values on-the-fly, rather than computing them all at once and storing them in memory. They're useful for handling large datasets or creating infinite sequences.\n",
        "\n",
        "Defining Generators:\n",
        "\n",
        "Generators are defined using functions with the yield keyword instead of return. When a generator function is called, it returns a generator iterator object.\n",
        "\n",
        "How Generators Work:\n",
        "\n",
        "1. When a generator function is called, it doesn't execute immediately.\n",
        "2. When next() is called on the generator iterator, the function executes until it reaches a yield statement.\n",
        "3. The value yielded is returned to the caller, and the function's state is suspended.\n",
        "4. When next() is called again, the function resumes from where it left off.\n",
        "\n",
        "Example:\n",
        "\n",
        "def infinite_sequence():\n",
        "    num = 0\n",
        "    while True:\n",
        "        yield num\n",
        "        num += 1\n",
        "\n",
        "7. What are the advantages of using generators over regular functions?\n",
        "\n",
        "Advantages of Generators:\n",
        "\n",
        "1. Memory Efficiency: Generators use significantly less memory compared to regular functions that return large lists or sequences. They generate values on-the-fly, rather than storing them all in memory at once.\n",
        "2. Lazy Evaluation: Generators only compute the next value when asked, which can be beneficial for expensive computations or infinite sequences.\n",
        "3. Flexibility: Generators can be used to create complex sequences or handle large datasets without consuming excessive memory.\n",
        "\n",
        "Example:\n",
        "\n",
        "Suppose we want to generate the Fibonacci sequence up to the 10th number. We can compare a regular function with a generator:\n",
        "\n",
        "Regular Function:\n",
        "\n",
        "def fibonacci_list(n):\n",
        "    fib_list = [0, 1]\n",
        "    while len(fib_list) < n:\n",
        "        fib_list.append(fib_list[-1] + fib_list[-2])\n",
        "    return fib_list\n",
        "\n",
        "print(fibonacci_list(10))  # [0, 1, 1, 2, 3, 5, 8, 13, 21, 34]\n",
        "\n",
        "\n",
        "Generator:\n",
        "\n",
        "def fibonacci_gen(n):\n",
        "    a, b = 0, 1\n",
        "    for _ in range(n):\n",
        "        yield a\n",
        "        a, b = b, a + b\n",
        "\n",
        "for num in fibonacci_gen(10):\n",
        "    print(num)  # prints the Fibonacci sequence one number at a time\n",
        "8. What is a lambda function in Python and when is it typically used?\n",
        "\n",
        "Lambda Function:\n",
        "\n",
        "A lambda function, also known as an anonymous function, is a small, one-line function in Python that can take any number of arguments, but can only have one expression. It's defined using the lambda keyword.\n",
        "\n",
        "Typical Use Cases:\n",
        "\n",
        "1. Short, one-time use functions: Lambda functions are useful when you need a small, simple function that won't be reused elsewhere in your code.\n",
        "2. Higher-order functions: Lambda functions are often used as arguments to higher-order functions, such as map(), filter(), or reduce().\n",
        "3. Data processing: Lambda functions can be used to perform simple data transformations or filtering.\n",
        "\n",
        "Example:\n",
        "\n",
        "numbers = [1, 2, 3, 4, 5]\n",
        "squared_numbers = list(map(lambda x: x ** 2, numbers))\n",
        "print(squared_numbers)  # [1, 4, 9, 16, 25]\n",
        "\n",
        "9. Explain the purpose and usage of the `map()` function in Python.\n",
        "\n",
        "Function:\n",
        "\n",
        "The map() function in Python is a built-in function that applies a given function to each item of an iterable (such as a list, tuple, or string) and returns a map object, which is an iterator. It's often used to transform or process data in a concise and efficient way.\n",
        "\n",
        "Purpose:\n",
        "\n",
        "The main purpose of map() is to:\n",
        "\n",
        "1. Apply a function: map() applies a specified function to each element of an iterable.\n",
        "2. Transform data: map() can be used to transform or process data in a dataset.\n",
        "\n",
        "Examples:\n",
        "\n",
        "1. Simple Transformation:\n",
        "\n",
        "numbers = [1, 2, 3, 4, 5]\n",
        "double_numbers = list(map(lambda x: x * 2, numbers))\n",
        "print(double_numbers)  # [2, 4, 6, 8, 10]\n",
        "\n",
        "\n",
        "In this example, map() applies a lambda function that doubles each number in the numbers list.\n",
        "\n",
        "2. Converting Data Types:\n",
        "\n",
        "strings = ['1', '2', '3', '4', '5']\n",
        "numbers = list(map(int, strings))\n",
        "print(numbers)  # [1, 2, 3, 4, 5]\n",
        "\n",
        "\n",
        "Here, map() applies the int() function to convert each string in the strings list to an integer.\n",
        "\n",
        "3. Multiple Iterables:\n",
        "\n",
        "numbers1 = [1, 2, 3]\n",
        "numbers2 = [4, 5, 6]\n",
        "sums = list(map(lambda x, y: x + y, numbers1, numbers2))\n",
        "print(sums)  # [5, 7, 9]\n",
        "\n",
        "10. What is the difference between `map()`, `reduce()`, and `filter()` functions in Python?\n",
        "\n",
        "map(), reduce(), and filter() Functions:\n",
        "\n",
        "These three functions are built-in Python functions that can be used to process and transform data in iterables. Here's a brief overview of each function:\n",
        "\n",
        "1. map() Function:\n",
        "    - Applies a given function to each item of an iterable.\n",
        "    - Returns a map object, which is an iterator.\n",
        "\n",
        "Example:\n",
        "\n",
        "```\n",
        "numbers = [1, 2, 3, 4, 5]\n",
        "double_numbers = list(map(lambda x: x * 2, numbers))\n",
        "print(double_numbers)  # [2, 4, 6, 8, 10]\n",
        "\n",
        "\n",
        "2. *filter() Function:*\n",
        "   - Applies a given function to each item of an iterable and returns a filter object, which is an iterator.\n",
        "   - The function should return True or False, and filter() includes only the items for which the function returns True.\n",
        "\n",
        "   *Example:*\n",
        "   python\n",
        "numbers = [1, 2, 3, 4, 5]\n",
        "even_numbers = list(filter(lambda x: x % 2 == 0, numbers))\n",
        "print(even_numbers)  # [2, 4]\n",
        "\n",
        "\n",
        "3. reduce() Function:\n",
        "    - Applies a given function of two arguments cumulatively to the items of an iterable, from left to right.\n",
        "    - reduce() is part of the functools module in Python 3.\n",
        "\n",
        "Example:\n",
        "\n",
        "```\n",
        "from functools import reduce\n",
        "numbers = [1, 2, 3, 4, 5]\n",
        "sum_numbers = reduce(lambda x, y: x + y, numbers)\n",
        "print(sum_numbers)  # 15\n",
        "\n",
        "11.  Using pen & Paper write the internal mechanism for sum operation using  reduce function on this given\n",
        "list:[47,11,42,13];\n",
        "\n",
        "the step-by-step interior mechanism:\n",
        "\n",
        "1. Initialize the accumulator (acc) with the first element of the list: acc = 47\n",
        "2. Apply the lambda function to the accumulator and the second element (11): acc = 47 + 11 = 58\n",
        "3. Apply the lambda function to the accumulator and the third element (42): acc = 58 + 42 = 100\n",
        "4. Apply the lambda function to the accumulator and the fourth element (13): acc = 100 + 13 = 113\n",
        "\n",
        "The final result is 113.\n",
        "\n",
        "Here's a visual representation of the process:\n",
        "\n",
        "\n",
        "acc = 47 (initial value)\n",
        "acc = 47 + 11 = 58\n",
        "acc = 58 + 42 = 100\n",
        "acc = 100 + 13 = 113\n",
        "\n",
        "\n",
        "The reduce function applies the lambda function cumulatively to the elements of the list, resulting in a single output value, which is the sum of all the numbers in the list.\n",
        "\n",
        "In code, this would look like:\n",
        "\n",
        "from functools import reduce\n",
        "numbers = [47, 11, 42, 13]\n",
        "sum_numbers = reduce(lambda x, y: x + y, numbers)\n",
        "print(sum_numbers)  # Output: 113"
      ],
      "metadata": {
        "id": "j9h68TZCFy7v"
      }
    },
    {
      "cell_type": "code",
      "source": [
        "#Write a Python function that takes a list of numbers as input and returns the sum of all even numbers in\n",
        "the list.\n",
        "\"\"\"def sum_even_numbers(numbers):\n",
        "    sum_even = 0\n",
        "    for num in numbers:\n",
        "        if num % 2 == 0:\n",
        "            sum_even += num\n",
        "    return sum_even\"\"\""
      ],
      "metadata": {
        "colab": {
          "base_uri": "https://localhost:8080/",
          "height": 106
        },
        "id": "DOnmNBealzn8",
        "outputId": "f6d11711-2160-43b1-d53d-56e2d6135b9b"
      },
      "execution_count": 7,
      "outputs": [
        {
          "output_type": "error",
          "ename": "SyntaxError",
          "evalue": "invalid syntax (<ipython-input-7-8d35e1b1e3c3>, line 2)",
          "traceback": [
            "\u001b[0;36m  File \u001b[0;32m\"<ipython-input-7-8d35e1b1e3c3>\"\u001b[0;36m, line \u001b[0;32m2\u001b[0m\n\u001b[0;31m    the list.\u001b[0m\n\u001b[0m        ^\u001b[0m\n\u001b[0;31mSyntaxError\u001b[0m\u001b[0;31m:\u001b[0m invalid syntax\n"
          ]
        }
      ]
    },
    {
      "cell_type": "code",
      "source": [
        "# Create a Python function that accepts a string and returns the reverse of that string.\n",
        "-> \"\"\"def reverse_string(input_string):\n",
        "    reversed_string = \"\"\n",
        "    for char in input_string:\n",
        "        reversed_string = char + reversed_string\n",
        "    return reversed_string\"\"\""
      ],
      "metadata": {
        "colab": {
          "base_uri": "https://localhost:8080/",
          "height": 106
        },
        "id": "3fj4WCJul-_w",
        "outputId": "50ebc349-9c15-4b75-8b86-71c86c0366f9"
      },
      "execution_count": 3,
      "outputs": [
        {
          "output_type": "error",
          "ename": "SyntaxError",
          "evalue": "invalid syntax (<ipython-input-3-ca13d51fcfbf>, line 2)",
          "traceback": [
            "\u001b[0;36m  File \u001b[0;32m\"<ipython-input-3-ca13d51fcfbf>\"\u001b[0;36m, line \u001b[0;32m2\u001b[0m\n\u001b[0;31m    -> \"\"\"def reverse_string(input_string):\u001b[0m\n\u001b[0m    ^\u001b[0m\n\u001b[0;31mSyntaxError\u001b[0m\u001b[0;31m:\u001b[0m invalid syntax\n"
          ]
        }
      ]
    },
    {
      "cell_type": "code",
      "source": [
        "#Implement a Python function that takes a list of integers and returns a new list containing the squares of\n",
        "each number.\n",
        " \"\"\"def square_numbers(numbers):\n",
        "    squared_numbers = [num ** 2 for num in numbers]\n",
        "    return squared_numbers\"\"\""
      ],
      "metadata": {
        "colab": {
          "base_uri": "https://localhost:8080/",
          "height": 106
        },
        "id": "5J460PeImbZy",
        "outputId": "0cfbd03f-acb3-47d4-dca5-715f37852db7"
      },
      "execution_count": 9,
      "outputs": [
        {
          "output_type": "error",
          "ename": "SyntaxError",
          "evalue": "invalid syntax (<ipython-input-9-e3af98236772>, line 2)",
          "traceback": [
            "\u001b[0;36m  File \u001b[0;32m\"<ipython-input-9-e3af98236772>\"\u001b[0;36m, line \u001b[0;32m2\u001b[0m\n\u001b[0;31m    each number.\u001b[0m\n\u001b[0m         ^\u001b[0m\n\u001b[0;31mSyntaxError\u001b[0m\u001b[0;31m:\u001b[0m invalid syntax\n"
          ]
        }
      ]
    },
    {
      "cell_type": "code",
      "source": [
        "#Write a Python function that checks if a given number is prime or not from 1 to 200.\n",
        "\"\"\"def is_prime(number):\n",
        "    if number <= 1:\n",
        "        return False\n",
        "    if number <= 3:\n",
        "        return True\n",
        "    if number % 2 == 0 or number % 3 == 0:\n",
        "        return False\"\"\""
      ],
      "metadata": {
        "colab": {
          "base_uri": "https://localhost:8080/",
          "height": 53
        },
        "id": "oHl9QGl3oPWN",
        "outputId": "44b38411-1e2c-4b84-81da-b5ca208bce26"
      },
      "execution_count": 11,
      "outputs": [
        {
          "output_type": "execute_result",
          "data": {
            "text/plain": [
              "'def is_prime(number):\\n    if number <= 1:\\n        return False\\n    if number <= 3:\\n        return True\\n    if number % 2 == 0 or number % 3 == 0:\\n        return False'"
            ],
            "application/vnd.google.colaboratory.intrinsic+json": {
              "type": "string"
            }
          },
          "metadata": {},
          "execution_count": 11
        }
      ]
    },
    {
      "cell_type": "code",
      "source": [
        "#Create an iterator class in Python that generates the Fibonacci sequence up to a specified number of\n",
        "terms.\n",
        "\"\"\"class FibonacciIterator:\n",
        "    def __init__(self, n):\n",
        "        self.n = n\n",
        "        self.a, self.b = 0, 1\n",
        "        self.count = 0\"\"\""
      ],
      "metadata": {
        "colab": {
          "base_uri": "https://localhost:8080/",
          "height": 106
        },
        "id": "oAAt0Aruo-_a",
        "outputId": "97c6cd35-c979-49e2-c2d3-87ce357f6263"
      },
      "execution_count": 12,
      "outputs": [
        {
          "output_type": "error",
          "ename": "SyntaxError",
          "evalue": "invalid syntax (<ipython-input-12-2541d59c00ca>, line 2)",
          "traceback": [
            "\u001b[0;36m  File \u001b[0;32m\"<ipython-input-12-2541d59c00ca>\"\u001b[0;36m, line \u001b[0;32m2\u001b[0m\n\u001b[0;31m    terms.\u001b[0m\n\u001b[0m          ^\u001b[0m\n\u001b[0;31mSyntaxError\u001b[0m\u001b[0;31m:\u001b[0m invalid syntax\n"
          ]
        }
      ]
    },
    {
      "cell_type": "code",
      "source": [
        "#Write a generator function in Python that yields the powers of 2 up to a given exponent.\n",
        "\"\"\"def power_of_two(n):\n",
        "    power = 0\n",
        "    while power <= n:\n",
        "        yield 2 ** power\n",
        "        power += 1\"\"\""
      ],
      "metadata": {
        "colab": {
          "base_uri": "https://localhost:8080/",
          "height": 35
        },
        "id": "iqD-bE4npL5H",
        "outputId": "37bed49b-3a5f-4dd1-e29c-908ba121cf9f"
      },
      "execution_count": 13,
      "outputs": [
        {
          "output_type": "execute_result",
          "data": {
            "text/plain": [
              "'def power_of_two(n):\\n    power = 0\\n    while power <= n:\\n        yield 2 ** power\\n        power += 1'"
            ],
            "application/vnd.google.colaboratory.intrinsic+json": {
              "type": "string"
            }
          },
          "metadata": {},
          "execution_count": 13
        }
      ]
    },
    {
      "cell_type": "code",
      "source": [
        "# Implement a generator function that reads a file line by line and yields each line as a string.\n",
        "\"\"\"def read_file_lines(file_path):\n",
        "    with open(file_path, 'r') as file:\n",
        "        for line in file:\n",
        "            yield line\"\"\""
      ],
      "metadata": {
        "colab": {
          "base_uri": "https://localhost:8080/",
          "height": 35
        },
        "id": "xZXF4UOtpW2b",
        "outputId": "8ce92361-f1ce-49c7-f765-57093d7fcaba"
      },
      "execution_count": 14,
      "outputs": [
        {
          "output_type": "execute_result",
          "data": {
            "text/plain": [
              "\"def read_file_lines(file_path):\\n    with open(file_path, 'r') as file:\\n        for line in file:\\n            yield line\""
            ],
            "application/vnd.google.colaboratory.intrinsic+json": {
              "type": "string"
            }
          },
          "metadata": {},
          "execution_count": 14
        }
      ]
    },
    {
      "cell_type": "code",
      "source": [
        "#Use a lambda function in Python to sort a list of tuples based on the second element of each tuple.\n",
        "\"\"\"data = [(1, 5), (3, 2), (2, 8), (4, 1)]\n",
        "sorted_data = sorted(data, key=lambda x: x[1])\n",
        "print(sorted_data)\"\"\""
      ],
      "metadata": {
        "colab": {
          "base_uri": "https://localhost:8080/",
          "height": 35
        },
        "id": "6xgdmkO8perB",
        "outputId": "0edb1c45-f4cd-4234-efbd-81a7276824e1"
      },
      "execution_count": 15,
      "outputs": [
        {
          "output_type": "execute_result",
          "data": {
            "text/plain": [
              "'data = [(1, 5), (3, 2), (2, 8), (4, 1)]\\nsorted_data = sorted(data, key=lambda x: x[1])\\nprint(sorted_data)'"
            ],
            "application/vnd.google.colaboratory.intrinsic+json": {
              "type": "string"
            }
          },
          "metadata": {},
          "execution_count": 15
        }
      ]
    },
    {
      "cell_type": "code",
      "source": [
        "#Write a Python program that uses `map()` to convert a list of temperatures from Celsius to Fahrenheit.\n",
        "\"\"\"celsius_temperatures = [0, 10, 20, 30, 40]\n",
        "fahrenheit_temperatures = list(map(lambda c: (c * 9/5) + 32, celsius_temperatures))\"\"\""
      ],
      "metadata": {
        "colab": {
          "base_uri": "https://localhost:8080/",
          "height": 35
        },
        "id": "o-L8z1KLpl3v",
        "outputId": "95570657-5b2d-49a3-d1d0-c6218d9e5059"
      },
      "execution_count": 16,
      "outputs": [
        {
          "output_type": "execute_result",
          "data": {
            "text/plain": [
              "'celsius_temperatures = [0, 10, 20, 30, 40]\\nfahrenheit_temperatures = list(map(lambda c: (c * 9/5) + 32, celsius_temperatures))'"
            ],
            "application/vnd.google.colaboratory.intrinsic+json": {
              "type": "string"
            }
          },
          "metadata": {},
          "execution_count": 16
        }
      ]
    },
    {
      "cell_type": "code",
      "source": [
        "# Create a Python program that uses `filter()` to remove all the vowels from a given string.\n",
        "\"\"\"def remove_vowels(string):\n",
        "    vowels = 'aeiouAEIOU'\n",
        "    filtered_string = ''.join(filter(lambda char: char not in vowels, string))\n",
        "    return filtered_string\"\"\""
      ],
      "metadata": {
        "colab": {
          "base_uri": "https://localhost:8080/",
          "height": 53
        },
        "id": "x0J1FXnUputz",
        "outputId": "fadfb243-4ce6-4bc6-be9a-eb7bfbfa6513"
      },
      "execution_count": 17,
      "outputs": [
        {
          "output_type": "execute_result",
          "data": {
            "text/plain": [
              "\"def remove_vowels(string):\\n    vowels = 'aeiouAEIOU'\\n    filtered_string = ''.join(filter(lambda char: char not in vowels, string))\\n    return filtered_string\""
            ],
            "application/vnd.google.colaboratory.intrinsic+json": {
              "type": "string"
            }
          },
          "metadata": {},
          "execution_count": 17
        }
      ]
    },
    {
      "cell_type": "code",
      "source": [],
      "metadata": {
        "id": "n2AYdtm9p1vI"
      },
      "execution_count": null,
      "outputs": []
    }
  ]
}